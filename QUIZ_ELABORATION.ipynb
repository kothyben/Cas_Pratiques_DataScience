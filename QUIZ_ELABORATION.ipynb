{
 "cells": [
  {
   "cell_type": "markdown",
   "metadata": {},
   "source": [
    "# IMPORT LIBRAIRIES"
   ]
  },
  {
   "cell_type": "code",
   "execution_count": 1,
   "metadata": {},
   "outputs": [],
   "source": [
    "import pandas as pd \n",
    "import numpy as np\n",
    "from random import *\n",
    "import random"
   ]
  },
  {
   "cell_type": "markdown",
   "metadata": {},
   "source": [
    "## Enregistrement des questions et réponses "
   ]
  },
  {
   "cell_type": "code",
   "execution_count": 2,
   "metadata": {},
   "outputs": [],
   "source": [
    "Question_1, Question_2, Question_3, Question_4, Question_5, Question_6, Question_7, Question_8, Question_9, Question_10 = \"question_1 : ?\", \"question_2 : ?\", \"question_3 : ?\", \"question_4 : ?\", \"question_5 : ?\", \"question_6 : ?\", \"question_7 : ?\", \"question_8 : ?\", \"question_9 : ?\", \"question_10: ?\""
   ]
  },
  {
   "cell_type": "code",
   "execution_count": 3,
   "metadata": {},
   "outputs": [],
   "source": [
    "Rep_1, Rep_2, Rep_3, Rep_4, Rep_5, Rep_6, Rep_7, Rep_8, Rep_9, Rep_10 = \"rep_1\", \"rep_2\", \"rep_3\", \"rep_4\", \"rep_5\", \"rep_6\", \"rep_7\", \"rep_8\", \"rep_9\", \"rep_10\" "
   ]
  },
  {
   "cell_type": "markdown",
   "metadata": {},
   "source": [
    "## Création des listes de réponses et de questions "
   ]
  },
  {
   "cell_type": "code",
   "execution_count": 4,
   "metadata": {},
   "outputs": [
    {
     "data": {
      "text/plain": [
       "['question_1 : ?',\n",
       " 'question_2 : ?',\n",
       " 'question_3 : ?',\n",
       " 'question_4 : ?',\n",
       " 'question_5 : ?',\n",
       " 'question_6 : ?',\n",
       " 'question_7 : ?',\n",
       " 'question_8 : ?',\n",
       " 'question_9 : ?',\n",
       " 'question_10: ?']"
      ]
     },
     "execution_count": 4,
     "metadata": {},
     "output_type": "execute_result"
    }
   ],
   "source": [
    "questions = [Question_1, Question_2, Question_3, Question_4, Question_5, \n",
    "             Question_6, Question_7, Question_8, Question_9, Question_10]\n",
    "\n",
    "questions= [i for i in questions ]\n",
    "questions"
   ]
  },
  {
   "cell_type": "code",
   "execution_count": 5,
   "metadata": {},
   "outputs": [
    {
     "data": {
      "text/plain": [
       "['rep_1',\n",
       " 'rep_2',\n",
       " 'rep_3',\n",
       " 'rep_4',\n",
       " 'rep_5',\n",
       " 'rep_6',\n",
       " 'rep_7',\n",
       " 'rep_8',\n",
       " 'rep_9',\n",
       " 'rep_10']"
      ]
     },
     "execution_count": 5,
     "metadata": {},
     "output_type": "execute_result"
    }
   ],
   "source": [
    "reponses = [Rep_1, Rep_2, Rep_3, Rep_4, Rep_5, \n",
    "            Rep_6, Rep_7, Rep_8, Rep_9, Rep_10]\n",
    "\n",
    "\n",
    "reponses= [i for i in reponses]\n",
    "reponses"
   ]
  },
  {
   "cell_type": "markdown",
   "metadata": {},
   "source": [
    "# Le Quiz Simple "
   ]
  },
  {
   "cell_type": "raw",
   "metadata": {},
   "source": [
    "il est possible de passer à la question suvante même si nous avons une mauvaise réponse\n",
    "à la fin signaler le score et demander à montrer les réponses des questions ratées \n"
   ]
  },
  {
   "cell_type": "code",
   "execution_count": 6,
   "metadata": {},
   "outputs": [
    {
     "name": "stdout",
     "output_type": "stream",
     "text": [
      "question_1 : ?reponse_1\n",
      "question_2 : ?f\n",
      "question_3 : ?f\n",
      "question_4 : ?f\n",
      "question_5 : ?f\n",
      "question_6 : ?f\n",
      "question_7 : ?f\n",
      "question_8 : ?f\n",
      "question_9 : ?f\n",
      "question_10: ?f\n",
      "votre score :  0 / 10\n",
      "vous avez 10  mauvaises réponses\n",
      "vous avez 0 de bonnes réponses\n",
      "Voulez_vous afficher les bonnes réponses ? oui ou non : oui\n"
     ]
    },
    {
     "data": {
      "text/plain": [
       "[('question_1 : ?', ' la réponse est : ', 'rep_1'),\n",
       " ('question_2 : ?', ' la réponse est : ', 'rep_2'),\n",
       " ('question_3 : ?', ' la réponse est : ', 'rep_3'),\n",
       " ('question_4 : ?', ' la réponse est : ', 'rep_4'),\n",
       " ('question_5 : ?', ' la réponse est : ', 'rep_5'),\n",
       " ('question_6 : ?', ' la réponse est : ', 'rep_6'),\n",
       " ('question_7 : ?', ' la réponse est : ', 'rep_7'),\n",
       " ('question_8 : ?', ' la réponse est : ', 'rep_8'),\n",
       " ('question_9 : ?', ' la réponse est : ', 'rep_9'),\n",
       " ('question_10: ?', ' la réponse est : ', 'rep_10')]"
      ]
     },
     "metadata": {},
     "output_type": "display_data"
    }
   ],
   "source": [
    "bonnes_reponses = []\n",
    "Mauvaises_reponses = []\n",
    "Affiche_reponses_questions_ratées = []\n",
    "\n",
    "for i in range(len(questions)) :\n",
    "    Q_i = input(questions[i])\n",
    "    Q_i = Q_i.lower()\n",
    "    if Q_i == reponses[i] :\n",
    "        # print (\"bravo\")\n",
    "        bonnes_reponses = bonnes_reponses + [reponses[i]]\n",
    "    else :\n",
    "        # print(\"dommage\")\n",
    "        Mauvaises_reponses = Mauvaises_reponses + [Q_i]\n",
    "        Affiche_reponses_questions_ratées =  Affiche_reponses_questions_ratées +  [( questions[i], \n",
    "                                                                                    \" la réponse est : \", reponses[i])]\n",
    "\n",
    "if len(bonnes_reponses) == len(questions):\n",
    "    print(\"vous avez fait un sans faute : \", len(bonnes_reponses), '/' , len(questions))\n",
    "else :\n",
    "    print(\"votre score : \", len(questions) - len(Mauvaises_reponses), \"/\" ,  len(questions))\n",
    "    print(\"vous avez {}  mauvaises réponses\".format(len(Mauvaises_reponses)))\n",
    "    print(\"vous avez {} de bonnes réponses\".format(len(bonnes_reponses)))\n",
    "\n",
    "solution = input(\"Voulez_vous afficher les bonnes réponses ? oui ou non : \")\n",
    "solution = solution.lower()\n",
    "if solution != \"oui\" :\n",
    "    print(\"Merci pour votre participation\")\n",
    "else :\n",
    "    display(Affiche_reponses_questions_ratées)"
   ]
  },
  {
   "cell_type": "markdown",
   "metadata": {},
   "source": [
    "## Améliorations du Quiz"
   ]
  },
  {
   "cell_type": "code",
   "execution_count": 10,
   "metadata": {},
   "outputs": [
    {
     "name": "stdout",
     "output_type": "stream",
     "text": [
      "Voici notre quiz, tu as trois chances !\n",
      "question_1 : ?rep_1\n",
      "question_2 : ?rep\n",
      "Dommage ! Il te reste 2 chances\n",
      "question_2 : ?rep_2\n",
      "question_3 : ?rep_3\n",
      "Bravo ! Tu as gagné le quiz !\n"
     ]
    }
   ],
   "source": [
    "nb_de_chances = 3\n",
    "questions= [i for i in questions ]\n",
    "\n",
    "reponses= [i for i in reponses]\n",
    "\n",
    "print(\"Voici notre quiz, tu as trois chances !\")\n",
    "\n",
    "for i in range(0,3):\n",
    "  if nb_de_chances == 0:\n",
    "    break # interrompt la boucle for\n",
    "  question = input(questions[i])\n",
    "  question = question.lower()\n",
    "\n",
    "  while question != reponses[i]:\n",
    "    nb_de_chances -= 1\n",
    "    print(\"Dommage ! Il te reste {} chances\".format(nb_de_chances))\n",
    "    if nb_de_chances == 0:\n",
    "        print(\"Oh non ! Tu as perdu le jeu...\")\n",
    "        break # interrompt la boucle while\n",
    "    question = input(questions[i])\n",
    "    question = question.lower()\n",
    "\n",
    "if nb_de_chances > 0:\n",
    "  print(\"Bravo ! Tu as gagné le quiz !\")"
   ]
  },
  {
   "cell_type": "markdown",
   "metadata": {},
   "source": [
    "## choix des questions au hazard"
   ]
  },
  {
   "cell_type": "raw",
   "metadata": {},
   "source": [
    "créer une fonction qui me renvoie à chaque fois une fenête pour saisir et mes questions et mes réponses et qui engeristre directement mes listes (questions et reponses)\n",
    "\n",
    "Choisir au hasard une question parmi les questions (pas de répétitions)\n",
    "Définir le nombre de questions totales à poser ou insérer un nombre de chances limites pour terminer le Quiz\n"
   ]
  },
  {
   "cell_type": "raw",
   "metadata": {},
   "source": [
    "for i in range(len(questions)) :\n",
    "    Q = input(random.choice(questions))\n",
    "    \n",
    "# A SUIVRE"
   ]
  },
  {
   "cell_type": "markdown",
   "metadata": {},
   "source": [
    "# Quiz Trouver le nombre juste "
   ]
  },
  {
   "cell_type": "code",
   "execution_count": null,
   "metadata": {},
   "outputs": [],
   "source": [
    "from random import *\n",
    "n = randint(1, 10)\n",
    "#print(n)\n",
    "essai = 1 \n",
    "devinette = -1\n",
    "while devinette != n and essai <= 8:\n",
    "    devinette = int(input(\"entre un nombre compris entre 1 et 10 : \"))\n",
    "    essai+=1\n",
    "    print(\"il vous reste {} essais \".format(8-essai))\n",
    "    if devinette > n :\n",
    "        print(\"le nombre choisit est plus petit\")\n",
    "    elif devinette<n :\n",
    "        print(\"le nombre choisit est plus grand\")\n",
    "if devinette == n :\n",
    "    print(\"Vous avez trouvé le bon nombre\")\n",
    "else :\n",
    "    print (\" Vous avez été trop lent\")\n",
    "    print(\"le nolbre etait\", n)"
   ]
  }
 ],
 "metadata": {
  "kernelspec": {
   "display_name": "Python 3",
   "language": "python",
   "name": "python3"
  },
  "language_info": {
   "codemirror_mode": {
    "name": "ipython",
    "version": 3
   },
   "file_extension": ".py",
   "mimetype": "text/x-python",
   "name": "python",
   "nbconvert_exporter": "python",
   "pygments_lexer": "ipython3",
   "version": "3.8.3"
  }
 },
 "nbformat": 4,
 "nbformat_minor": 4
}
