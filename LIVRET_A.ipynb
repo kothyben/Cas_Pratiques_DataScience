{
 "cells": [
  {
   "cell_type": "markdown",
   "metadata": {
    "colab_type": "text",
    "id": "1NCGks54kp_n"
   },
   "source": [
    "# Combien vous rapporte votre livret A ?"
   ]
  },
  {
   "cell_type": "markdown",
   "metadata": {
    "colab_type": "text",
    "id": "75Xe4f7vksGZ"
   },
   "source": [
    "Il parait que si Christophe Colomb avait mis 1€ de côté qu’il avait laissé à 2% d’intérêt par an, aujourd’hui ses héritiers n’auraient plus besoin de travailler pour vivre leur vie. Essayons de calculer la même chose pour notre livret A. "
   ]
  },
  {
   "cell_type": "markdown",
   "metadata": {
    "colab_type": "text",
    "id": "v4ugjwIakv2c"
   },
   "source": [
    "1. Créons donc une fonction qui va nous permettre de savoir combien d’argent un utilisateur aura au total au bout d’un certain nombre d’années\n",
    "\n",
    "2. L’utilisateur devra pouvoir appeler la fonction qui ensuite lui demandera :\n",
    "\n",
    "    1. La somme totale qu’il souhaite placer\n",
    "    2. Le nombre d’années pendant lesquelles il souhaite placer son argent\n",
    "    3. Le taux d’intérêt auquel il a droit\n",
    "    \n",
    "3. Faite attention aux erreurs que peut rentrer l’utilisateur\n",
    "\n",
    "    4. S’il entre une chaîne de caractères plutôt qu’un nombre, une erreur devra ressortir\n",
    "    5. Si l’utilisateur met des chiffres négatifs, une erreur devra, de même, sortir\n",
    "    6. Enfin, il est très probable que l’utilisateur écrive le taux d’intérêt en pourcentage (ex: 10%). Levez une erreur si tel est le cas pour le prévenir de mettre un nombre décimal\n",
    "    \n",
    "4. Pour terminer, le programme devra ressortir qu’un chiffre avec au maximum deux chiffres après la virgule.\n"
   ]
  },
  {
   "cell_type": "code",
   "execution_count": 1,
   "metadata": {
    "colab": {
     "base_uri": "https://localhost:8080/",
     "height": 539
    },
    "colab_type": "code",
    "executionInfo": {
     "elapsed": 89906,
     "status": "error",
     "timestamp": 1588407280813,
     "user": {
      "displayName": "Alexis Comte",
      "photoUrl": "",
      "userId": "01634540473472786057"
     },
     "user_tz": -120
    },
    "id": "ovkcocqXkp2k",
    "outputId": "85c627fc-45e2-43fc-9816-ee55e0d1c496"
   },
   "outputs": [
    {
     "name": "stdout",
     "output_type": "stream",
     "text": [
      "Donnez-nous la somme totale que vous souhaitez placer\n",
      "1000\n",
      "combien d'années allez-vous placer cet argent ?\n",
      "10\n",
      "A quel taux souhaitez vous voir les intérêts ?\n",
      " ATTENTION : Vous devrez mettre une valeur décimale \n",
      " Ex: 10% --> 0.10\n",
      "0.10\n",
      "La somme totale dont vous disposerez après avoir déposé 1000.0 au bout de 10 ans sera de 2593.74\n"
     ]
    }
   ],
   "source": [
    "def interet():\n",
    "\n",
    "      total = 0\n",
    "\n",
    "      somme = float(input(\"Donnez-nous la somme totale que vous souhaitez placer\\n\"))\n",
    "      if somme < 0:\n",
    "          raise ValueError(\"Vous ne pouvez pas investir un nombre négatif d'argent\")\n",
    "      elif somme == 0:\n",
    "          raise ValueError(\"Vous n'avez pas investi d'argent !\")\n",
    "\n",
    "      nb_annees = int(input(\"combien d'années allez-vous placer cet argent ?\\n\"))\n",
    "\n",
    "      if nb_annees < 0:\n",
    "          raise ValueError(\"Les années ne peuvent pas prendre une valeur négative\")\n",
    "      elif nb_annees == 0:\n",
    "          raise ValueError(\"Vous allez bien attendre au moins un an, non ?\")\n",
    "\n",
    "      interet = input(\"A quel taux souhaitez vous voir les intérêts ?\\n ATTENTION : Vous devrez mettre une valeur décimale \\n Ex: 10% --> 0.10\\n\")\n",
    "\n",
    "      if \"%\" in interet:\n",
    "          raise ValueError(\"Merci de mettre une valeur décimale uniquement, pas de signe de pourcentage \\nEx 10% ---> 0.10\")\n",
    "\n",
    "      else:\n",
    "          interet = float(interet)\n",
    "\n",
    "      if interet < 0:\n",
    "          raise ValueError(\"Vous ne pouvez pas avoir un taux d'intérêt négatif\")\n",
    "      elif interet == 0:\n",
    "          raise ValueError(\"Vous devriez avoir un taux d'intérêt\")\n",
    "\n",
    "      total = total + somme*(1+interet)**(nb_annees)\n",
    "      return print(\"La somme totale dont vous disposerez après avoir déposé {} au bout de {} ans sera de {:.2f}\".format(somme,nb_annees, total))\n",
    "\n",
    "\n",
    "\n",
    "interet()"
   ]
  },
  {
   "cell_type": "code",
   "execution_count": 2,
   "metadata": {
    "colab": {},
    "colab_type": "code",
    "id": "JQjzmnBoLBLf"
   },
   "outputs": [],
   "source": [
    "def livret():\n",
    "  try:\n",
    "    placement=float(input(\"Quelle somme voulez vous placer?\"))\n",
    "    annee=float(input(\"pendant combien d'annes voulez vous placer votre argent?\"))\n",
    "    taux=input(\"A quel tau avez vous droit? \\n ATTENTION : Vous devrez mettre une valeur décimale  \\n Ex: 10% --> 0.10 \\n\")\n",
    "    if \"%\" in taux:\n",
    "      raise ValueError(\"Pour le taux mettre uniquement un nombre decimal\")\n",
    "    taux=float(taux) \n",
    "    if placement < 0 or annee < 0 or taux <0 :\n",
    "      raise ValueError(\"On ne peut pas avoir moins de 0 personnes à la table!\")\n",
    "    final=placement*(taux/100+1)**annee\n",
    "  except ValueError as erreur:\n",
    "    print(\"Ne mettez que des nombres positifs\")\n",
    "    print(erreur)\n",
    "  else: \n",
    "    return round(final,2)"
   ]
  },
  {
   "cell_type": "code",
   "execution_count": 3,
   "metadata": {
    "colab": {},
    "colab_type": "code",
    "id": "0qIc48kvU16i"
   },
   "outputs": [
    {
     "name": "stdout",
     "output_type": "stream",
     "text": [
      "Quelle somme voulez vous placer?10000\n",
      "pendant combien d'annes voulez vous placer votre argent?10\n",
      "A quel tau avez vous droit? \n",
      " ATTENTION : Vous devrez mettre une valeur décimale  \n",
      " Ex: 10% --> 0.10 \n",
      "0.10\n"
     ]
    },
    {
     "data": {
      "text/plain": [
       "10100.45"
      ]
     },
     "execution_count": 3,
     "metadata": {},
     "output_type": "execute_result"
    }
   ],
   "source": [
    "livret()"
   ]
  },
  {
   "cell_type": "code",
   "execution_count": 4,
   "metadata": {
    "colab": {},
    "colab_type": "code",
    "id": "q6Z0_dUcU3rg"
   },
   "outputs": [],
   "source": [
    "def Total_revenu():\n",
    "    try:\n",
    "        Total_placer = float(input(\"Quel montant total souhaiteriez-vous placé ? \" ))\n",
    "        if Total_placer < 0:\n",
    "            raise ValueError(\"Veuillez rentrer un nombre supérieur à 0\" )\n",
    "        Total_annee = int(input(\"Pour combien d'années voudriez-vous placer votre argent ? \"))\n",
    "        Taux_interet = float(input(\"entrez le taux d'intérêt annuel : \" ))\n",
    "        if Taux_interet < 0 or Taux_interet > 100:\n",
    "            raise ValueError(\"Veuillez rentrer une valeur comprise entre 0 et 100 \" )\n",
    "        Total_revenu = Total_placer*(1 + Taux_interet/100)**(Total_annee)\n",
    "    except TypeError:\n",
    "        print(\"Ceci n'est pas un nombre\")\n",
    "    else:\n",
    "        return print(\"Votre revenu total est de {}\".format(Total_revenu))"
   ]
  },
  {
   "cell_type": "code",
   "execution_count": 5,
   "metadata": {
    "colab": {},
    "colab_type": "code",
    "id": "zOXeB94nWA0_"
   },
   "outputs": [
    {
     "name": "stdout",
     "output_type": "stream",
     "text": [
      "Quel montant total souhaiteriez-vous placé ? 10000\n",
      "Pour combien d'années voudriez-vous placer votre argent ? 10\n",
      "entrez le taux d'intérêt annuel : 0.3\n",
      "Votre revenu total est de 10304.082570713881\n"
     ]
    }
   ],
   "source": [
    "Total_revenu()"
   ]
  },
  {
   "cell_type": "code",
   "execution_count": 0,
   "metadata": {
    "colab": {},
    "colab_type": "code",
    "id": "MqpQLQq-WCxE"
   },
   "outputs": [],
   "source": []
  }
 ],
 "metadata": {
  "colab": {
   "collapsed_sections": [],
   "name": "Fondamentaux Python - Mini Projets SOLUTIONS S1-2B.ipynb",
   "provenance": []
  },
  "kernelspec": {
   "display_name": "Python 3",
   "language": "python",
   "name": "python3"
  },
  "language_info": {
   "codemirror_mode": {
    "name": "ipython",
    "version": 3
   },
   "file_extension": ".py",
   "mimetype": "text/x-python",
   "name": "python",
   "nbconvert_exporter": "python",
   "pygments_lexer": "ipython3",
   "version": "3.7.7"
  }
 },
 "nbformat": 4,
 "nbformat_minor": 1
}
