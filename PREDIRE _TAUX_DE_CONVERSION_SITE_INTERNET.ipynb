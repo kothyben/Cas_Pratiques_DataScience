{
 "cells": [
  {
   "cell_type": "markdown",
   "metadata": {},
   "source": [
    "# PREDICTION DU TAUX DE CONVERSION SUR UN SITE INTERNET "
   ]
  },
  {
   "cell_type": "markdown",
   "metadata": {},
   "source": [
    "###  Objectifs :\n",
    "- IL S'AGIT ICI DE PREDIRE SI UN CLIENT VA CONVERTIR OU NON avec 95% DE PRECISION\n",
    "        - Nous utiliserons les matrices de confusion le Gridsearch etla crossvalidation pour peformer le modèle\n",
    "        - Nous ferons ceciàl'aide d'un Pipeline = (transforùers + estimateurs de classification)"
   ]
  },
  {
   "cell_type": "markdown",
   "metadata": {},
   "source": [
    "# Importer les librairies "
   ]
  },
  {
   "cell_type": "code",
   "execution_count": 2,
   "metadata": {},
   "outputs": [],
   "source": [
    "import pandas as pd"
   ]
  },
  {
   "cell_type": "code",
   "execution_count": 3,
   "metadata": {},
   "outputs": [],
   "source": [
    "%matplotlib inline\n",
    "import matplotlib.pyplot as plt\n",
    "import seaborn as sns \n",
    "import numpy as np "
   ]
  },
  {
   "cell_type": "markdown",
   "metadata": {},
   "source": [
    "# Le Dataset"
   ]
  },
  {
   "cell_type": "code",
   "execution_count": 4,
   "metadata": {},
   "outputs": [
    {
     "data": {
      "text/html": [
       "<div>\n",
       "<style scoped>\n",
       "    .dataframe tbody tr th:only-of-type {\n",
       "        vertical-align: middle;\n",
       "    }\n",
       "\n",
       "    .dataframe tbody tr th {\n",
       "        vertical-align: top;\n",
       "    }\n",
       "\n",
       "    .dataframe thead th {\n",
       "        text-align: right;\n",
       "    }\n",
       "</style>\n",
       "<table border=\"1\" class=\"dataframe\">\n",
       "  <thead>\n",
       "    <tr style=\"text-align: right;\">\n",
       "      <th></th>\n",
       "      <th>country</th>\n",
       "      <th>age</th>\n",
       "      <th>new_user</th>\n",
       "      <th>source</th>\n",
       "      <th>total_pages_visited</th>\n",
       "      <th>converted</th>\n",
       "    </tr>\n",
       "  </thead>\n",
       "  <tbody>\n",
       "    <tr>\n",
       "      <th>0</th>\n",
       "      <td>UK</td>\n",
       "      <td>25</td>\n",
       "      <td>1</td>\n",
       "      <td>Ads</td>\n",
       "      <td>1</td>\n",
       "      <td>0</td>\n",
       "    </tr>\n",
       "    <tr>\n",
       "      <th>1</th>\n",
       "      <td>US</td>\n",
       "      <td>23</td>\n",
       "      <td>1</td>\n",
       "      <td>Seo</td>\n",
       "      <td>5</td>\n",
       "      <td>0</td>\n",
       "    </tr>\n",
       "    <tr>\n",
       "      <th>2</th>\n",
       "      <td>US</td>\n",
       "      <td>28</td>\n",
       "      <td>1</td>\n",
       "      <td>Seo</td>\n",
       "      <td>4</td>\n",
       "      <td>0</td>\n",
       "    </tr>\n",
       "    <tr>\n",
       "      <th>3</th>\n",
       "      <td>China</td>\n",
       "      <td>39</td>\n",
       "      <td>1</td>\n",
       "      <td>Seo</td>\n",
       "      <td>5</td>\n",
       "      <td>0</td>\n",
       "    </tr>\n",
       "    <tr>\n",
       "      <th>4</th>\n",
       "      <td>US</td>\n",
       "      <td>30</td>\n",
       "      <td>1</td>\n",
       "      <td>Seo</td>\n",
       "      <td>6</td>\n",
       "      <td>0</td>\n",
       "    </tr>\n",
       "  </tbody>\n",
       "</table>\n",
       "</div>"
      ],
      "text/plain": [
       "  country  age  new_user source  total_pages_visited  converted\n",
       "0      UK   25         1    Ads                    1          0\n",
       "1      US   23         1    Seo                    5          0\n",
       "2      US   28         1    Seo                    4          0\n",
       "3   China   39         1    Seo                    5          0\n",
       "4      US   30         1    Seo                    6          0"
      ]
     },
     "execution_count": 4,
     "metadata": {},
     "output_type": "execute_result"
    }
   ],
   "source": [
    "data=pd.read_csv(\"D:\\FRANCE 20 MAI 2018\\DATA SCIENCES\\DATABASE UPLOADED\\MES EXPORTS_PERSO\\conversion_data.csv\")  \n",
    "data.head()"
   ]
  },
  {
   "cell_type": "code",
   "execution_count": 5,
   "metadata": {},
   "outputs": [],
   "source": [
    "dataset = data.copy()"
   ]
  },
  {
   "cell_type": "markdown",
   "metadata": {},
   "source": [
    "# EDA : Exploration Data Analysis"
   ]
  },
  {
   "cell_type": "markdown",
   "metadata": {},
   "source": [
    "### Analyse de la forme "
   ]
  },
  {
   "cell_type": "code",
   "execution_count": 6,
   "metadata": {},
   "outputs": [
    {
     "name": "stdout",
     "output_type": "stream",
     "text": [
      "Nbre lignes et de colonnes (316200, 6)\n"
     ]
    }
   ],
   "source": [
    "# Nombre de lignes et de colonnes\n",
    "print(\"Nbre lignes et de colonnes\", dataset.shape)"
   ]
  },
  {
   "cell_type": "code",
   "execution_count": 12,
   "metadata": {
    "scrolled": true
   },
   "outputs": [
    {
     "name": "stdout",
     "output_type": "stream",
     "text": [
      "Nombre de types de variables :  2\n"
     ]
    },
    {
     "data": {
      "text/plain": [
       "Type\n",
       "int64     4\n",
       "object    2\n",
       "dtype: int64"
      ]
     },
     "execution_count": 12,
     "metadata": {},
     "output_type": "execute_result"
    }
   ],
   "source": [
    "# type de variables\n",
    "A = pd.DataFrame(dataset.dtypes, columns = [\"Type\"])\n",
    "\n",
    "print(\"Nombre de types de variables : \", len(A.groupby([\"Type\"]).count()))\n",
    "A.groupby([\"Type\"]).size()"
   ]
  },
  {
   "cell_type": "code",
   "execution_count": 14,
   "metadata": {
    "scrolled": true
   },
   "outputs": [
    {
     "data": {
      "text/plain": [
       "country                object\n",
       "age                     int64\n",
       "new_user                int64\n",
       "source                 object\n",
       "total_pages_visited     int64\n",
       "converted               int64\n",
       "dtype: object"
      ]
     },
     "execution_count": 14,
     "metadata": {},
     "output_type": "execute_result"
    }
   ],
   "source": [
    "dataset.dtypes"
   ]
  },
  {
   "cell_type": "code",
   "execution_count": 15,
   "metadata": {},
   "outputs": [
    {
     "name": "stdout",
     "output_type": "stream",
     "text": [
      "Pourcentage valeurs manquante\n"
     ]
    },
    {
     "data": {
      "text/plain": [
       "country                0.0\n",
       "age                    0.0\n",
       "new_user               0.0\n",
       "source                 0.0\n",
       "total_pages_visited    0.0\n",
       "converted              0.0\n",
       "dtype: float64"
      ]
     },
     "execution_count": 15,
     "metadata": {},
     "output_type": "execute_result"
    }
   ],
   "source": [
    "# Valeurs manquantes ?\n",
    "print(\"Pourcentage valeurs manquante\")\n",
    "dataset.isna().sum() / dataset.shape[0]"
   ]
  },
  {
   "cell_type": "markdown",
   "metadata": {},
   "source": [
    "## Conclusion_1"
   ]
  },
  {
   "cell_type": "raw",
   "metadata": {},
   "source": [
    "Pas de valeurs manquantes,\n",
    "Nombre de types de variables :  2 (intéger et texte)\n",
    "Nbre lignes et de colonnes (316200, 6)"
   ]
  },
  {
   "cell_type": "markdown",
   "metadata": {},
   "source": [
    "### Analyse du fond "
   ]
  },
  {
   "cell_type": "code",
   "execution_count": 16,
   "metadata": {
    "scrolled": true
   },
   "outputs": [
    {
     "name": "stdout",
     "output_type": "stream",
     "text": [
      "                 age       new_user  total_pages_visited      converted\n",
      "count  316200.000000  316200.000000        316200.000000  316200.000000\n",
      "mean       30.569858       0.685465             4.872966       0.032258\n",
      "std         8.271802       0.464331             3.341104       0.176685\n",
      "min        17.000000       0.000000             1.000000       0.000000\n",
      "25%        24.000000       0.000000             2.000000       0.000000\n",
      "50%        30.000000       1.000000             4.000000       0.000000\n",
      "75%        36.000000       1.000000             7.000000       0.000000\n",
      "max       123.000000       1.000000            29.000000       1.000000\n"
     ]
    }
   ],
   "source": [
    "print(dataset.describe())"
   ]
  },
  {
   "cell_type": "raw",
   "metadata": {},
   "source": [
    "Ce tableau nous révèle que nous avons des personnes âgés de 123 ans ==> nous investiguerons plus à ce propos \n",
    "la moyenne dage est jeune 30 ans ==> ce sont donc des jeunes qui visitent le site"
   ]
  },
  {
   "cell_type": "code",
   "execution_count": 8,
   "metadata": {
    "scrolled": true
   },
   "outputs": [
    {
     "data": {
      "text/html": [
       "<div>\n",
       "<style scoped>\n",
       "    .dataframe tbody tr th:only-of-type {\n",
       "        vertical-align: middle;\n",
       "    }\n",
       "\n",
       "    .dataframe tbody tr th {\n",
       "        vertical-align: top;\n",
       "    }\n",
       "\n",
       "    .dataframe thead th {\n",
       "        text-align: right;\n",
       "    }\n",
       "</style>\n",
       "<table border=\"1\" class=\"dataframe\">\n",
       "  <thead>\n",
       "    <tr style=\"text-align: right;\">\n",
       "      <th></th>\n",
       "      <th>new_user</th>\n",
       "    </tr>\n",
       "    <tr>\n",
       "      <th>country</th>\n",
       "      <th></th>\n",
       "    </tr>\n",
       "  </thead>\n",
       "  <tbody>\n",
       "    <tr>\n",
       "      <th>US</th>\n",
       "      <td>178092</td>\n",
       "    </tr>\n",
       "    <tr>\n",
       "      <th>China</th>\n",
       "      <td>76602</td>\n",
       "    </tr>\n",
       "    <tr>\n",
       "      <th>UK</th>\n",
       "      <td>48450</td>\n",
       "    </tr>\n",
       "    <tr>\n",
       "      <th>Germany</th>\n",
       "      <td>13056</td>\n",
       "    </tr>\n",
       "  </tbody>\n",
       "</table>\n",
       "</div>"
      ],
      "text/plain": [
       "         new_user\n",
       "country          \n",
       "US         178092\n",
       "China       76602\n",
       "UK          48450\n",
       "Germany     13056"
      ]
     },
     "execution_count": 8,
     "metadata": {},
     "output_type": "execute_result"
    }
   ],
   "source": [
    "#Nombre de connexions par pays \n",
    "User_country = dataset.groupby([\"country\"])[[\"new_user\"]].count()\n",
    "User_country.sort_values(by = \"new_user\", ascending = False)"
   ]
  },
  {
   "cell_type": "markdown",
   "metadata": {},
   "source": [
    "## Conclusion_2"
   ]
  },
  {
   "cell_type": "raw",
   "metadata": {},
   "source": [
    "Nous avons beaucoup plus de users consultant le site depuis les états unis  ce qui peut porter à croire que c'est un site américain\n",
    "Beaucoup de chinois aussi consultent le site ce qui est normal ausi puisque beaucoup de chinois vivent aux états unis et cette idéee se renforce par la population jeune des users(âge moyen des utilisateurs = 30ans)"
   ]
  },
  {
   "cell_type": "code",
   "execution_count": 19,
   "metadata": {
    "scrolled": false
   },
   "outputs": [
    {
     "name": "stdout",
     "output_type": "stream",
     "text": [
      " Un plus grand nombre  de users 87279 aux USA optimisenet les moteurs de recherche \n",
      "du site ==> ceci renforce l'idée que c'est un site  américain  \n"
     ]
    },
    {
     "data": {
      "text/html": [
       "<div>\n",
       "<style scoped>\n",
       "    .dataframe tbody tr th:only-of-type {\n",
       "        vertical-align: middle;\n",
       "    }\n",
       "\n",
       "    .dataframe tbody tr th {\n",
       "        vertical-align: top;\n",
       "    }\n",
       "\n",
       "    .dataframe thead th {\n",
       "        text-align: right;\n",
       "    }\n",
       "</style>\n",
       "<table border=\"1\" class=\"dataframe\">\n",
       "  <thead>\n",
       "    <tr style=\"text-align: right;\">\n",
       "      <th></th>\n",
       "      <th></th>\n",
       "      <th>new_user</th>\n",
       "    </tr>\n",
       "    <tr>\n",
       "      <th>country</th>\n",
       "      <th>source</th>\n",
       "      <th></th>\n",
       "    </tr>\n",
       "  </thead>\n",
       "  <tbody>\n",
       "    <tr>\n",
       "      <th rowspan=\"3\" valign=\"top\">US</th>\n",
       "      <th>Seo</th>\n",
       "      <td>87229</td>\n",
       "    </tr>\n",
       "    <tr>\n",
       "      <th>Ads</th>\n",
       "      <td>49901</td>\n",
       "    </tr>\n",
       "    <tr>\n",
       "      <th>Direct</th>\n",
       "      <td>40962</td>\n",
       "    </tr>\n",
       "    <tr>\n",
       "      <th>China</th>\n",
       "      <th>Seo</th>\n",
       "      <td>37578</td>\n",
       "    </tr>\n",
       "    <tr>\n",
       "      <th>UK</th>\n",
       "      <th>Seo</th>\n",
       "      <td>23801</td>\n",
       "    </tr>\n",
       "    <tr>\n",
       "      <th rowspan=\"2\" valign=\"top\">China</th>\n",
       "      <th>Ads</th>\n",
       "      <td>21561</td>\n",
       "    </tr>\n",
       "    <tr>\n",
       "      <th>Direct</th>\n",
       "      <td>17463</td>\n",
       "    </tr>\n",
       "    <tr>\n",
       "      <th rowspan=\"2\" valign=\"top\">UK</th>\n",
       "      <th>Ads</th>\n",
       "      <td>13518</td>\n",
       "    </tr>\n",
       "    <tr>\n",
       "      <th>Direct</th>\n",
       "      <td>11131</td>\n",
       "    </tr>\n",
       "    <tr>\n",
       "      <th rowspan=\"3\" valign=\"top\">Germany</th>\n",
       "      <th>Seo</th>\n",
       "      <td>6432</td>\n",
       "    </tr>\n",
       "    <tr>\n",
       "      <th>Ads</th>\n",
       "      <td>3760</td>\n",
       "    </tr>\n",
       "    <tr>\n",
       "      <th>Direct</th>\n",
       "      <td>2864</td>\n",
       "    </tr>\n",
       "  </tbody>\n",
       "</table>\n",
       "</div>"
      ],
      "text/plain": [
       "                new_user\n",
       "country source          \n",
       "US      Seo        87229\n",
       "        Ads        49901\n",
       "        Direct     40962\n",
       "China   Seo        37578\n",
       "UK      Seo        23801\n",
       "China   Ads        21561\n",
       "        Direct     17463\n",
       "UK      Ads        13518\n",
       "        Direct     11131\n",
       "Germany Seo         6432\n",
       "        Ads         3760\n",
       "        Direct      2864"
      ]
     },
     "execution_count": 19,
     "metadata": {},
     "output_type": "execute_result"
    }
   ],
   "source": [
    "print(\"\"\" Un plus grand nombre  de users 87279 aux USA optimisenet les moteurs de recherche \n",
    "du site ==> ceci renforce l'idée que c'est un site  américain  \"\"\")\n",
    "\n",
    "(dataset.groupby([\"country\", \"source\"])[[\"new_user\"]].count().sort_values(by = \"new_user\", ascending = False))"
   ]
  },
  {
   "cell_type": "code",
   "execution_count": 20,
   "metadata": {},
   "outputs": [],
   "source": [
    "# Déterminer les features et la Target\n",
    "y = dataset.loc[:, [\"converted\"]]\n",
    "X = dataset.loc[:, dataset.columns != \"converted\"] "
   ]
  },
  {
   "cell_type": "markdown",
   "metadata": {},
   "source": [
    "### Les variables catégorielles "
   ]
  },
  {
   "cell_type": "code",
   "execution_count": 22,
   "metadata": {},
   "outputs": [
    {
     "data": {
      "image/png": "[encoded data removed]",
      "text/plain": [
       "<Figure size 432x288 with 1 Axes>"
      ]
     },
     "metadata": {},
     "output_type": "display_data"
    },
    {
     "data": {
      "image/png": "[encoded data removed]",
      "text/plain": [
       "<Figure size 432x288 with 1 Axes>"
      ]
     },
     "metadata": {},
     "output_type": "display_data"
    }
   ],
   "source": [
    "for col in X.select_dtypes('object'):\n",
    "    plt.figure()\n",
    "    X[col].value_counts().plot.pie()"
   ]
  },
  {
   "cell_type": "markdown",
   "metadata": {},
   "source": [
    "### Les variables quantitatives "
   ]
  },
  {
   "cell_type": "code",
   "execution_count": 13,
   "metadata": {},
   "outputs": [
    {
     "name": "stdout",
     "output_type": "stream",
     "text": [
      " Nous avons des outliers au niveaud e l'age \n",
      "Nous remarquons aussi que la dataset est déséquilibrée trop de conversions par rapport au non conversion\n",
      "\n"
     ]
    },
    {
     "data": {
      "image/png": "[encoded data removed]",
      "text/plain": [
       "<Figure size 432x288 with 1 Axes>"
      ]
     },
     "metadata": {
      "needs_background": "light"
     },
     "output_type": "display_data"
    },
    {
     "data": {
      "image/png": "[encoded data removed]",
      "text/plain": [
       "<Figure size 432x288 with 1 Axes>"
      ]
     },
     "metadata": {
      "needs_background": "light"
     },
     "output_type": "display_data"
    },
    {
     "data": {
      "image/png": "[encoded data removed]",
      "text/plain": [
       "<Figure size 432x288 with 1 Axes>"
      ]
     },
     "metadata": {
      "needs_background": "light"
     },
     "output_type": "display_data"
    }
   ],
   "source": [
    "print(\"\"\" Nous avons des outliers au niveaud e l'age \n",
    "Nous remarquons aussi que la dataset est déséquilibrée trop de conversions par rapport au non conversion\n",
    "\"\"\")\n",
    "\n",
    "for col in X.select_dtypes('int64'):\n",
    "    plt.figure()\n",
    "    sns.distplot(X[col])"
   ]
  },
  {
   "cell_type": "markdown",
   "metadata": {},
   "source": [
    "## Gestions des outliers"
   ]
  },
  {
   "cell_type": "code",
   "execution_count": 14,
   "metadata": {},
   "outputs": [
    {
     "name": "stdout",
     "output_type": "stream",
     "text": [
      " Nous avons uniquement 2 personne âgées de plus de 100 ans, nous pouvons  \n",
      "      les supprimers sans soucis de modification significative du dataset \n"
     ]
    },
    {
     "data": {
      "text/html": [
       "<div>\n",
       "<style scoped>\n",
       "    .dataframe tbody tr th:only-of-type {\n",
       "        vertical-align: middle;\n",
       "    }\n",
       "\n",
       "    .dataframe tbody tr th {\n",
       "        vertical-align: top;\n",
       "    }\n",
       "\n",
       "    .dataframe thead th {\n",
       "        text-align: right;\n",
       "    }\n",
       "</style>\n",
       "<table border=\"1\" class=\"dataframe\">\n",
       "  <thead>\n",
       "    <tr style=\"text-align: right;\">\n",
       "      <th></th>\n",
       "      <th>country</th>\n",
       "      <th>age</th>\n",
       "      <th>new_user</th>\n",
       "      <th>source</th>\n",
       "      <th>total_pages_visited</th>\n",
       "      <th>converted</th>\n",
       "    </tr>\n",
       "  </thead>\n",
       "  <tbody>\n",
       "    <tr>\n",
       "      <th>90928</th>\n",
       "      <td>Germany</td>\n",
       "      <td>123</td>\n",
       "      <td>0</td>\n",
       "      <td>Seo</td>\n",
       "      <td>15</td>\n",
       "      <td>1</td>\n",
       "    </tr>\n",
       "    <tr>\n",
       "      <th>295581</th>\n",
       "      <td>UK</td>\n",
       "      <td>111</td>\n",
       "      <td>0</td>\n",
       "      <td>Ads</td>\n",
       "      <td>10</td>\n",
       "      <td>1</td>\n",
       "    </tr>\n",
       "  </tbody>\n",
       "</table>\n",
       "</div>"
      ],
      "text/plain": [
       "        country  age  new_user source  total_pages_visited  converted\n",
       "90928   Germany  123         0    Seo                   15          1\n",
       "295581       UK  111         0    Ads                   10          1"
      ]
     },
     "execution_count": 14,
     "metadata": {},
     "output_type": "execute_result"
    }
   ],
   "source": [
    "print(\"\"\" Nous avons uniquement 2 personne âgées de plus de 100 ans, nous pouvons  \n",
    "      les supprimers sans soucis de modification significative du dataset \"\"\")\n",
    "dataset[dataset['age']>100]"
   ]
  },
  {
   "cell_type": "code",
   "execution_count": 23,
   "metadata": {},
   "outputs": [],
   "source": [
    "dataset = dataset[dataset['age']<=100]"
   ]
  },
  {
   "cell_type": "markdown",
   "metadata": {},
   "source": [
    "## Visualisation des paramètres en fonction de la conversion "
   ]
  },
  {
   "cell_type": "markdown",
   "metadata": {},
   "source": [
    "### Relation entre les paramètres et la conversion  "
   ]
  },
  {
   "cell_type": "code",
   "execution_count": 33,
   "metadata": {},
   "outputs": [
    {
     "name": "stdout",
     "output_type": "stream",
     "text": [
      " Les chinois convertissent moins que les autres pays, les premiers à convertir ont les allemands\n",
      "          puis les anglais et les américains\n",
      "          pourtant tout porte à que c'est  un site américain puisqu'ils sont plus nombreux \n",
      "          il faudrait donc augmenter leur possibilité de conversion. L'âge est il correler avec la conversion ?\n",
      "\n"
     ]
    },
    {
     "data": {
      "image/png": "[encoded data removed]",
      "text/plain": [
       "<Figure size 360x360 with 1 Axes>"
      ]
     },
     "metadata": {
      "needs_background": "light"
     },
     "output_type": "display_data"
    },
    {
     "data": {
      "image/png": "[encoded data removed]",
      "text/plain": [
       "<Figure size 360x360 with 1 Axes>"
      ]
     },
     "metadata": {
      "needs_background": "light"
     },
     "output_type": "display_data"
    }
   ],
   "source": [
    "print(\"\"\" Les chinois convertissent moins que les autres pays, les premiers à convertir ont les allemands\n",
    "          puis les anglais et les américains\n",
    "          pourtant tout porte à que c'est  un site américain puisqu'ils sont plus nombreux \n",
    "          il faudrait donc augmenter leur possibilité de conversion. L'âge est il correler avec la conversion ?\n",
    "\"\"\")\n",
    "\n",
    "liste = [i for i in  X.select_dtypes('object').columns]\n",
    "for i in liste :\n",
    "    sns.catplot(x=i, y=\"converted\", data=dataset, kind=\"bar\")"
   ]
  },
  {
   "cell_type": "code",
   "execution_count": 34,
   "metadata": {
    "scrolled": false
   },
   "outputs": [
    {
     "name": "stdout",
     "output_type": "stream",
     "text": [
      "  Nous constatons ici que plus nous consultons des pages sur ce site plus\n",
      "nous avons une meilleure chance de convertir. La probabilité de conversion atteind les 60% aprèsavoir visité 15 pages \n"
     ]
    },
    {
     "data": {
      "image/png": "[encoded data removed]",
      "text/plain": [
       "<Figure size 432x288 with 1 Axes>"
      ]
     },
     "metadata": {
      "needs_background": "light"
     },
     "output_type": "display_data"
    }
   ],
   "source": [
    "print(\"\"\"  Nous constatons ici que plus nous consultons des pages sur ce site plus\n",
    "nous avons une meilleure chance de convertir. La probabilité de conversion atteind les 60% aprèsavoir visité 15 pages \"\"\")\n",
    "\n",
    "dataset.groupby(['total_pages_visited'])['converted'].mean().plot()\n",
    "plt.show()"
   ]
  },
  {
   "cell_type": "markdown",
   "metadata": {},
   "source": [
    "### Influence de l'age sur la conversion "
   ]
  },
  {
   "cell_type": "code",
   "execution_count": 52,
   "metadata": {
    "scrolled": false
   },
   "outputs": [
    {
     "data": {
      "image/png": "[encoded data removed]",
      "text/plain": [
       "<Figure size 432x288 with 1 Axes>"
      ]
     },
     "metadata": {
      "needs_background": "light"
     },
     "output_type": "display_data"
    },
    {
     "name": "stdout",
     "output_type": "stream",
     "text": [
      "Les chances de conversion diminuent en prenant de l'âge sur ce site, les 20 ans représentent 7% de convertis \n",
      "de 63 à 80 ans  les chances sont très faibles <1% \n",
      "par contre entre 58 et 63 ans les convertis  passent à 2%\n",
      "\n"
     ]
    }
   ],
   "source": [
    "dataset.groupby(['age'])['converted'].mean().plot()\n",
    "plt.show()\n",
    "\n",
    "print(\"\"\"Les chances de conversion diminuent en prenant de l'âge sur ce site, les 20 ans représentent 7% (tous les users)\n",
    "de convertis \n",
    "de 63 à 80 ans  les chances sont très faibles <1% \n",
    "par contre entre 58 et 63 ans les convertis  passent à 2%\n",
    "\"\"\")"
   ]
  },
  {
   "cell_type": "markdown",
   "metadata": {},
   "source": [
    "### Uniquement les convertis "
   ]
  },
  {
   "cell_type": "code",
   "execution_count": 54,
   "metadata": {
    "scrolled": false
   },
   "outputs": [
    {
     "data": {
      "image/png": "[encoded data removed]",
      "text/plain": [
       "<Figure size 432x288 with 1 Axes>"
      ]
     },
     "metadata": {
      "needs_background": "light"
     },
     "output_type": "display_data"
    },
    {
     "name": "stdout",
     "output_type": "stream",
     "text": [
      "Cette figure nous montre que plus on prend de l'âge moins on convertis sur ce site, \n",
      "c'est donc un site de jeune A partir de 45 ans par là, nous avons moins de convertis. \n",
      "Pour confirmer cela nous allons déterminer les conversions par tranches d'ages\n",
      "\n"
     ]
    }
   ],
   "source": [
    "convertis = dataset.loc[dataset.converted ==1,  [\"age\", \"converted\"]].reset_index()\n",
    "convertis = convertis.drop(\"index\", axis = 1)\n",
    "convertis.groupby([\"age\"])[\"converted\"].sum().plot()\n",
    "plt.show()\n",
    "\n",
    "print(\"\"\"Cette figure nous montre que plus on prend de l'âge moins on convertis sur ce site, \n",
    "c'est donc un site de jeune A partir de 45 ans par là, nous avons moins de convertis. \n",
    "Pour confirmer cela nous allons déterminer les conversions par tranches d'ages\n",
    "\"\"\")"
   ]
  },
  {
   "cell_type": "markdown",
   "metadata": {},
   "source": [
    "### Le nombre de conversions par tranche d'âge"
   ]
  },
  {
   "cell_type": "code",
   "execution_count": 43,
   "metadata": {},
   "outputs": [
    {
     "name": "stdout",
     "output_type": "stream",
     "text": [
      "les convertis -de 20 ans :  2231 \n",
      "les convertis entre 21_40 ans :  7553 \n",
      "les convertis entre 41_60 ans ;  413 \n",
      "les convertis + de 61 ans :  1\n"
     ]
    }
   ],
   "source": [
    "dataset_20ans = dataset[(dataset.converted==1) & (dataset.age<=20)]\n",
    "dataset_20_40ans = dataset[(dataset.converted==1) & (dataset.age>20) & (dataset.age<=40) ]\n",
    "dataset_40_60ans = dataset[(dataset.converted==1) & (dataset.age>40) & (dataset.age<=60) ]\n",
    "dataset_60ans_plus = dataset[(dataset.converted==1) & (dataset.age>60) ]\n",
    "\n",
    "print(\"les convertis -de 20 ans : \", len(dataset_20ans), \"\\nles convertis entre 21_40 ans : \", len(dataset_20_40ans),\n",
    "     \"\\nles convertis entre 41_60 ans ; \", len(dataset_40_60ans), \"\\nles convertis + de 61 ans : \", len(dataset_60ans_plus))"
   ]
  },
  {
   "cell_type": "code",
   "execution_count": 72,
   "metadata": {},
   "outputs": [
    {
     "name": "stdout",
     "output_type": "stream",
     "text": [
      "Somme des convertis : 10198\n"
     ]
    }
   ],
   "source": [
    "soe_convertis = (len(dataset_20_40ans) + len(dataset_40_60ans)+len(dataset_60ans_plus) + len(dataset_20ans))\n",
    "print(\"Somme des convertis :\" , soe_convertis)\n",
    "# len(dataset[sataset.coverted ==1])"
   ]
  },
  {
   "cell_type": "markdown",
   "metadata": {},
   "source": [
    "## Conclusin_3"
   ]
  },
  {
   "cell_type": "raw",
   "metadata": {},
   "source": [
    "La probabilité de conversion atteind les 60% après  avoir visité 15 pages\n",
    "Les chinois convertissent moins que les autres pays, les premiers à convertir sont les allemands\n",
    "puis les anglais et les américains\n",
    "C'est dans la tranche d'âge 20 à 40 qu'on convertis le plus (7653 conversions)"
   ]
  },
  {
   "cell_type": "markdown",
   "metadata": {},
   "source": [
    "# Machine learning et Modélisation "
   ]
  },
  {
   "cell_type": "markdown",
   "metadata": {},
   "source": [
    "Nous le ferons à l'aide d'un Pipeline "
   ]
  },
  {
   "cell_type": "code",
   "execution_count": 73,
   "metadata": {},
   "outputs": [],
   "source": [
    "from sklearn.pipeline import make_pipeline\n",
    "from sklearn.compose import make_column_selector\n",
    "from sklearn.compose import make_column_transformer"
   ]
  },
  {
   "cell_type": "markdown",
   "metadata": {},
   "source": [
    "### Nos encodeurs et Transformeurs"
   ]
  },
  {
   "cell_type": "code",
   "execution_count": 74,
   "metadata": {},
   "outputs": [],
   "source": [
    "from sklearn.impute import SimpleImputer\n",
    "from sklearn.preprocessing import OneHotEncoder\n",
    "from sklearn.preprocessing import StandardScaler"
   ]
  },
  {
   "cell_type": "markdown",
   "metadata": {},
   "source": [
    "## Séparons notre dataset e train et test "
   ]
  },
  {
   "cell_type": "code",
   "execution_count": 75,
   "metadata": {},
   "outputs": [],
   "source": [
    "#dataset = pd.get_dummies(dataset, drop_first =True)\n",
    "y = dataset.loc[:, [\"converted\"]]\n",
    "X = dataset.loc[:, dataset.columns != \"converted\"] "
   ]
  },
  {
   "cell_type": "code",
   "execution_count": 76,
   "metadata": {},
   "outputs": [],
   "source": [
    "from sklearn.model_selection import train_test_split\n",
    "X_train, X_test, y_train, y_test = train_test_split(X,  y, test_size= 0.3, stratify= y, random_state = 42)"
   ]
  },
  {
   "cell_type": "markdown",
   "metadata": {},
   "source": [
    "### Nos estimateurs "
   ]
  },
  {
   "cell_type": "code",
   "execution_count": 77,
   "metadata": {},
   "outputs": [],
   "source": [
    "from sklearn.linear_model import SGDClassifier\n",
    "from sklearn.ensemble import RandomForestClassifier\n"
   ]
  },
  {
   "cell_type": "markdown",
   "metadata": {},
   "source": [
    "## Notre Pipeline"
   ]
  },
  {
   "cell_type": "code",
   "execution_count": 78,
   "metadata": {},
   "outputs": [],
   "source": [
    "numerical_feature = make_column_selector(dtype_include = np.number)\n",
    "categorical_feature = make_column_selector(dtype_exclude = np.number)\n",
    "\n",
    "\n",
    "numerical_pipeline = make_pipeline(SimpleImputer(),\n",
    "                                  StandardScaler())\n",
    "\n",
    "categorical_pipeline = make_pipeline(SimpleImputer(strategy = \"most_frequent\"), \n",
    "                                    OneHotEncoder())\n",
    "\n",
    "preprocessor1 = make_column_transformer((numerical_pipeline, numerical_feature), \n",
    "                                        (categorical_pipeline, categorical_feature)) "
   ]
  },
  {
   "cell_type": "code",
   "execution_count": 79,
   "metadata": {},
   "outputs": [
    {
     "name": "stderr",
     "output_type": "stream",
     "text": [
      "C:\\ANACONDA\\lib\\site-packages\\sklearn\\utils\\validation.py:73: DataConversionWarning: A column-vector y was passed when a 1d array was expected. Please change the shape of y to (n_samples, ), for example using ravel().\n",
      "  return f(**kwargs)\n"
     ]
    },
    {
     "data": {
      "text/plain": [
       "Pipeline(steps=[('columntransformer',\n",
       "                 ColumnTransformer(transformers=[('pipeline-1',\n",
       "                                                  Pipeline(steps=[('simpleimputer',\n",
       "                                                                   SimpleImputer()),\n",
       "                                                                  ('standardscaler',\n",
       "                                                                   StandardScaler())]),\n",
       "                                                  <sklearn.compose._column_transformer.make_column_selector object at 0x000001F3238AC488>),\n",
       "                                                 ('pipeline-2',\n",
       "                                                  Pipeline(steps=[('simpleimputer',\n",
       "                                                                   SimpleImputer(strategy='most_frequent')),\n",
       "                                                                  ('onehotencoder',\n",
       "                                                                   OneHotEncoder())]),\n",
       "                                                  <sklearn.compose._column_transformer.make_column_selector object at 0x000001F3238AC448>)])),\n",
       "                ('sgdclassifier', SGDClassifier())])"
      ]
     },
     "execution_count": 79,
     "metadata": {},
     "output_type": "execute_result"
    }
   ],
   "source": [
    "model1 =  make_pipeline(preprocessor1, \n",
    "                     SGDClassifier())\n",
    "model1.fit(X_train, y_train)"
   ]
  },
  {
   "cell_type": "markdown",
   "metadata": {},
   "source": [
    "### Prédiction "
   ]
  },
  {
   "cell_type": "code",
   "execution_count": 80,
   "metadata": {
    "scrolled": true
   },
   "outputs": [],
   "source": [
    "y_pred= model1.predict(X_test)"
   ]
  },
  {
   "cell_type": "markdown",
   "metadata": {},
   "source": [
    "### Faisons des tests en prenant des profils au hasard"
   ]
  },
  {
   "cell_type": "code",
   "execution_count": 83,
   "metadata": {
    "scrolled": true
   },
   "outputs": [
    {
     "name": "stdout",
     "output_type": "stream",
     "text": [
      "   country  age  new_user  source  total_pages_visited\n",
      "0       US   20         1     Ads                   20\n",
      "1    China   60         1  Direct                   20\n",
      "2  Germany   35         1     Seo                   10\n"
     ]
    },
    {
     "data": {
      "text/plain": [
       "array([1, 0, 0], dtype=int64)"
      ]
     },
     "execution_count": 83,
     "metadata": {},
     "output_type": "execute_result"
    }
   ],
   "source": [
    "profils = pd.DataFrame({'country': [\"US\", \"China\", \"Germany\"], \n",
    "                        'age': [20, 60, 35], \n",
    "                        'new_user': [1, 1,1], \n",
    "                        'source': [\"Ads\", \"Direct\", \"Seo\"],\n",
    "                        'total_pages_visited': [20,20, 10]\n",
    "                       })\n",
    "print(profils)\n",
    "y_pred_1 =  model1.predict(profils)\n",
    "y_pred_1"
   ]
  },
  {
   "cell_type": "markdown",
   "metadata": {},
   "source": [
    "#### Un américain de 20 ans ayant visité 20 pages ==> il convertit"
   ]
  },
  {
   "cell_type": "code",
   "execution_count": 84,
   "metadata": {
    "scrolled": true
   },
   "outputs": [
    {
     "name": "stdout",
     "output_type": "stream",
     "text": [
      " Nous remarquons ici que seul l'américain de 20 ans ayant visité 20 pages convertira\n",
      "Diminuons un peu son nombre de pages visités et voyons ce que ça donne \n",
      "par la suite nous remettrons le nombre de pages visités et augmenterons son âge \n"
     ]
    }
   ],
   "source": [
    "print(\"\"\" Nous remarquons ici que seul l'américain de 20 ans ayant visité 20 pages convertira\n",
    "Diminuons un peu son nombre de pages visités et voyons ce que ça donne \n",
    "par la suite nous remettrons le nombre de pages visités et augmenterons son âge \"\"\")"
   ]
  },
  {
   "cell_type": "markdown",
   "metadata": {},
   "source": [
    "#### L'américain  de 20 ans visite 10 pages ==> il ne convertit plus "
   ]
  },
  {
   "cell_type": "code",
   "execution_count": 192,
   "metadata": {},
   "outputs": [
    {
     "name": "stdout",
     "output_type": "stream",
     "text": [
      "   country  age  new_user  source  total_pages_visited\n",
      "0       US   20         1     Ads                   10\n",
      "1    China   60         1  Direct                   20\n",
      "2  Germany   35         1     Seo                   10\n"
     ]
    },
    {
     "data": {
      "text/plain": [
       "array([0, 0, 0], dtype=int64)"
      ]
     },
     "execution_count": 192,
     "metadata": {},
     "output_type": "execute_result"
    }
   ],
   "source": [
    "profils = pd.DataFrame({'country': [\"US\", \"China\", \"Germany\"], \n",
    "                        'age': [20, 60, 35], \n",
    "                        'new_user': [1, 1,1], \n",
    "                        'source': [\"Ads\", \"Direct\", \"Seo\"],\n",
    "                        'total_pages_visited': [10, 20, 10]\n",
    "                       })\n",
    "print(profils)\n",
    "y_pred_1 =  model1.predict(profils)\n",
    "y_pred_1"
   ]
  },
  {
   "cell_type": "markdown",
   "metadata": {},
   "source": [
    "####  Un américain de 60 ans visite 20  pages ==> il convertit "
   ]
  },
  {
   "cell_type": "code",
   "execution_count": 85,
   "metadata": {},
   "outputs": [
    {
     "name": "stdout",
     "output_type": "stream",
     "text": [
      "   country  age  new_user  source  total_pages_visited\n",
      "0       US   60         1     Ads                   20\n",
      "1    China   60         1  Direct                   20\n",
      "2  Germany   35         1     Seo                   10\n"
     ]
    },
    {
     "data": {
      "text/plain": [
       "array([1, 0, 0], dtype=int64)"
      ]
     },
     "execution_count": 85,
     "metadata": {},
     "output_type": "execute_result"
    }
   ],
   "source": [
    "profils = pd.DataFrame({'country': [\"US\", \"China\", \"Germany\"], \n",
    "                        'age': [60, 60, 35], \n",
    "                        'new_user': [1, 1,1], \n",
    "                        'source': [\"Ads\", \"Direct\", \"Seo\"],\n",
    "                        'total_pages_visited': [20, 20, 10]\n",
    "                       })\n",
    "print(profils)\n",
    "y_pred_1 =  model1.predict(profils)\n",
    "y_pred_1"
   ]
  },
  {
   "cell_type": "markdown",
   "metadata": {},
   "source": [
    "### Un américain de 75 ans qui visite 18 pages ==> Ne convertit pas "
   ]
  },
  {
   "cell_type": "code",
   "execution_count": 86,
   "metadata": {
    "scrolled": true
   },
   "outputs": [
    {
     "name": "stdout",
     "output_type": "stream",
     "text": [
      "   country  age  new_user  source  total_pages_visited\n",
      "0       US   75         1     Ads                   18\n",
      "1    China   60         1  Direct                   20\n",
      "2  Germany   35         1     Seo                   10\n"
     ]
    },
    {
     "data": {
      "text/plain": [
       "array([0, 0, 0], dtype=int64)"
      ]
     },
     "execution_count": 86,
     "metadata": {},
     "output_type": "execute_result"
    }
   ],
   "source": [
    "profils = pd.DataFrame({'country': [\"US\", \"China\", \"Germany\"], \n",
    "                        'age': [75, 60, 35], \n",
    "                        'new_user': [1, 1,1], \n",
    "                        'source': [\"Ads\", \"Direct\", \"Seo\"],\n",
    "                        'total_pages_visited': [18, 20, 10]\n",
    "                       })\n",
    "print(profils)\n",
    "y_pred_1 =  model1.predict(profils)\n",
    "y_pred_1"
   ]
  },
  {
   "cell_type": "markdown",
   "metadata": {},
   "source": [
    "## Conclusion_4 \n",
    "    Tout porte donc à croire que ça se joue sur l'âge et sur le nombre de pages visitées. \n",
    "    Comme nous l'avions signalé plus haut l'âge et le nombre de pages visités sont prédominants\n",
    "\n",
    "    Après avoir étudié le score de notre modèle nous verons justement l'importance des ces features et tenterons de trouver à quel User  optimal l'équpe MRK devrait se concentrer. ==> en Utilisant le learning_curve"
   ]
  },
  {
   "cell_type": "markdown",
   "metadata": {},
   "source": [
    "### Score du Modèle "
   ]
  },
  {
   "cell_type": "code",
   "execution_count": 96,
   "metadata": {},
   "outputs": [
    {
     "name": "stdout",
     "output_type": "stream",
     "text": [
      "Score test : 0.9859687961205987 \n",
      " Score train : 0.9860439689524618 \n",
      " Score_reel : 0.986021416960259\n"
     ]
    }
   ],
   "source": [
    "print( \"Score test : {}\".format(model1.score(X_test, y_test)),\n",
    "      \"\\n Score train : {}\".format(model1.score(X_train, y_train)),\n",
    "      \"\\n Score_reel : {}\".format(model1.score(X, y)) )"
   ]
  },
  {
   "cell_type": "code",
   "execution_count": 88,
   "metadata": {},
   "outputs": [
    {
     "name": "stderr",
     "output_type": "stream",
     "text": [
      "C:\\ANACONDA\\lib\\site-packages\\sklearn\\pipeline.py:335: DataConversionWarning: A column-vector y was passed when a 1d array was expected. Please change the shape of y to (n_samples,), for example using ravel().\n",
      "  self._final_estimator.fit(Xt, y, **fit_params_last_step)\n"
     ]
    },
    {
     "data": {
      "text/plain": [
       "0.9842188488298546"
      ]
     },
     "execution_count": 88,
     "metadata": {},
     "output_type": "execute_result"
    }
   ],
   "source": [
    "model2 =  make_pipeline(preprocessor1, \n",
    "                     RandomForestClassifier())\n",
    "model2.fit(X_train, y_train)\n",
    "model2.score(X_test, y_test)"
   ]
  },
  {
   "cell_type": "markdown",
   "metadata": {},
   "source": [
    "## Conclusion_5"
   ]
  },
  {
   "cell_type": "raw",
   "metadata": {},
   "source": [
    "Nos modèles (1 et 2) semblent être bien performant puquetous 2 ont un score de 98%.\n",
    "Nous ne pouvons pas nous réjouir de ce score puisque à la base le dataset n'est pas équilibré \n",
    "en d'autre terme nous n'avons que 3% des 316200 users qui ont convertis\n",
    "il est donc probable que le modèle sache prédire plus des 0 que des 1.\n",
    "\n",
    "Serait-ce toujours le cas si nous avions une dataset équilibré ?"
   ]
  },
  {
   "cell_type": "code",
   "execution_count": 90,
   "metadata": {},
   "outputs": [
    {
     "name": "stdout",
     "output_type": "stream",
     "text": [
      "Nbre de convertis :  10198 ; contre  Nbre de non convertis :  306000\n"
     ]
    },
    {
     "data": {
      "text/plain": [
       "0    0.967742\n",
       "1    0.032258\n",
       "Name: converted, dtype: float64"
      ]
     },
     "execution_count": 90,
     "metadata": {},
     "output_type": "execute_result"
    }
   ],
   "source": [
    "print(\"Nbre de convertis : \", len(dataset[dataset.converted == 1]), \"; contre \", \n",
    "      \"Nbre de non convertis : \", len(dataset[dataset.converted == 0]))\n",
    "\n",
    "data.converted.value_counts(normalize = True)\n",
    "#len(data[data.converted == 1]) / data.shape[0]"
   ]
  },
  {
   "cell_type": "markdown",
   "metadata": {},
   "source": [
    "## Etudions la qualité de notre modèle dans ses conditions "
   ]
  },
  {
   "cell_type": "markdown",
   "metadata": {},
   "source": [
    "### Confusion Matrix avec le random forest"
   ]
  },
  {
   "cell_type": "code",
   "execution_count": 98,
   "metadata": {},
   "outputs": [],
   "source": [
    "from sklearn.metrics import confusion_matrix\n",
    "cm = confusion_matrix(y_test, y_pred= model2.predict(X_test) ) "
   ]
  },
  {
   "cell_type": "code",
   "execution_count": 99,
   "metadata": {},
   "outputs": [
    {
     "name": "stdout",
     "output_type": "stream",
     "text": [
      "   Non_converted  Converted\n",
      "0          91284        517\n",
      "1            980       2079\n"
     ]
    },
    {
     "data": {
      "image/png": "[encoded data removed]",
      "text/plain": [
       "<Figure size 432x288 with 2 Axes>"
      ]
     },
     "metadata": {
      "needs_background": "light"
     },
     "output_type": "display_data"
    }
   ],
   "source": [
    "# Afficher la cm \n",
    "print(pd.DataFrame(cm,columns = [\"Non_converted\", \"Converted\"]))\n",
    "\n",
    "ax = sns.heatmap(cm, annot=True) \n",
    "plt.show()"
   ]
  },
  {
   "cell_type": "raw",
   "metadata": {},
   "source": [
    "Sur les 94 860 orédictions, nous avons prédit 2588 convertis et 92 272 non convertis.Le modèle predit en effet pls de non conertis que des convertis (selon les données de base du dataset).\n",
    "\n",
    "Par ailleurs notre modèle prédit que 518 users vont convertir pourtant NON et 989 ne vont pas convertir pourtant ils convertissent.\n",
    "FN = 989\n",
    "FP = 518\n",
    "en gros il a 1507 mauvaises réponses contre  93353 bonnes réponses => sauf que les bonnes réponses sont pour les non conversions"
   ]
  },
  {
   "cell_type": "markdown",
   "metadata": {},
   "source": [
    "###  Confusion Matrix avec le SGDClassifier"
   ]
  },
  {
   "cell_type": "code",
   "execution_count": 100,
   "metadata": {},
   "outputs": [
    {
     "name": "stdout",
     "output_type": "stream",
     "text": [
      "   Non_converted  Converted\n",
      "0          91312        489\n",
      "1            842       2217\n"
     ]
    },
    {
     "data": {
      "image/png": "[encoded data removed]",
      "text/plain": [
       "<Figure size 432x288 with 2 Axes>"
      ]
     },
     "metadata": {
      "needs_background": "light"
     },
     "output_type": "display_data"
    }
   ],
   "source": [
    "cm = confusion_matrix(y_test, y_pred= model1.predict(X_test) ) \n",
    "\n",
    "\n",
    "print(pd.DataFrame(cm,columns = [\"Non_converted\", \"Converted\"]))\n",
    "ax = sns.heatmap(cm, annot=True) \n",
    "plt.show()\n"
   ]
  },
  {
   "cell_type": "raw",
   "metadata": {},
   "source": [
    "Avec le modele1 nous avons 93532 bonnes réponses contre 1328 mauvaises reponses \n",
    "FN = 982\n",
    "FP = 346"
   ]
  },
  {
   "cell_type": "markdown",
   "metadata": {},
   "source": [
    "## Conclusion_6"
   ]
  },
  {
   "cell_type": "raw",
   "metadata": {},
   "source": [
    "avec le Random forest :\n",
    "    1507 mauvaises réponses \n",
    "    93353 bonnes réponse\n",
    "    \n",
    "Avec le SGDClassifier : \n",
    "    1328 mauvaises reponses \n",
    "    93532 bonnes réponses\n",
    " \n",
    "Nous garderons donc le modèle1 SGDClassifier"
   ]
  },
  {
   "cell_type": "markdown",
   "metadata": {},
   "source": [
    "## A suivre les variables les plus importantes pour la conversion "
   ]
  },
  {
   "cell_type": "markdown",
   "metadata": {},
   "source": [
    "La cross validation + Gridsarch pour performer le modèle."
   ]
  },
  {
   "cell_type": "code",
   "execution_count": 94,
   "metadata": {},
   "outputs": [
    {
     "name": "stderr",
     "output_type": "stream",
     "text": [
      "C:\\ANACONDA\\lib\\site-packages\\sklearn\\utils\\validation.py:73: DataConversionWarning: A column-vector y was passed when a 1d array was expected. Please change the shape of y to (n_samples, ), for example using ravel().\n",
      "  return f(**kwargs)\n",
      "C:\\ANACONDA\\lib\\site-packages\\sklearn\\utils\\validation.py:73: DataConversionWarning: A column-vector y was passed when a 1d array was expected. Please change the shape of y to (n_samples, ), for example using ravel().\n",
      "  return f(**kwargs)\n",
      "C:\\ANACONDA\\lib\\site-packages\\sklearn\\utils\\validation.py:73: DataConversionWarning: A column-vector y was passed when a 1d array was expected. Please change the shape of y to (n_samples, ), for example using ravel().\n",
      "  return f(**kwargs)\n",
      "C:\\ANACONDA\\lib\\site-packages\\sklearn\\utils\\validation.py:73: DataConversionWarning: A column-vector y was passed when a 1d array was expected. Please change the shape of y to (n_samples, ), for example using ravel().\n",
      "  return f(**kwargs)\n",
      "C:\\ANACONDA\\lib\\site-packages\\sklearn\\utils\\validation.py:73: DataConversionWarning: A column-vector y was passed when a 1d array was expected. Please change the shape of y to (n_samples, ), for example using ravel().\n",
      "  return f(**kwargs)\n"
     ]
    },
    {
     "data": {
      "text/plain": [
       "0.9858225916687745"
      ]
     },
     "execution_count": 94,
     "metadata": {},
     "output_type": "execute_result"
    }
   ],
   "source": [
    "from sklearn.model_selection import cross_val_score\n",
    "cross_val_score(model1, X_train,y_train, cv=5, scoring = \"accuracy\").mean()"
   ]
  },
  {
   "cell_type": "code",
   "execution_count": null,
   "metadata": {},
   "outputs": [],
   "source": []
  }
 ],
 "metadata": {
  "kernelspec": {
   "display_name": "Python 3",
   "language": "python",
   "name": "python3"
  },
  "language_info": {
   "codemirror_mode": {
    "name": "ipython",
    "version": 3
   },
   "file_extension": ".py",
   "mimetype": "text/x-python",
   "name": "python",
   "nbconvert_exporter": "python",
   "pygments_lexer": "ipython3",
   "version": "3.8.3"
  }
 },
 "nbformat": 4,
 "nbformat_minor": 4
}
