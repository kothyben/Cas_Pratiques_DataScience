{
 "cells": [
  {
   "cell_type": "markdown",
   "id": "32fb9a6b",
   "metadata": {},
   "source": [
    "# API RATP "
   ]
  },
  {
   "cell_type": "markdown",
   "id": "6a4af69a",
   "metadata": {},
   "source": [
    "## Qu'est ce q'une API et à quoi ça sert "
   ]
  },
  {
   "cell_type": "markdown",
   "id": "ba96628f",
   "metadata": {},
   "source": [
    "    API pour Application Programming Interface  est comme son nom l'indique une interface de programmtion qui permet aux developpeurs D'interagir avec cet API (ce programme) afin d'obtenir le service que ce dernier propose\n",
    "\n",
    "    Dans cette interaction il en effet possble de communiquer avec L'API et / ou de l'intégrer à notre propre application ou un autre service.\n",
    "\n",
    "    C'est le cas par exemple des applications qui utilisent l'API de youtube afin de faire apparaître les vidéos youtube au sein de leurs pages, ou encore UBER qui utilise l'API de google Map pour utiliser la géolocalisation\n",
    "\n",
    "    Les requêtes et l'utilisation des API ont donc des règles propres que l'on trouve dans la documentation de L'API.\n",
    "\n",
    "    Ses règles peuvent être relatives à la connexion,au nombre de requêtes et même  la faço de requêter.\n",
    "    \n",
    "   #### En général une requête est faite sur une API et l'API nous renvoe un JSON\n",
    "    \n",
    "    ==> Un Webhook par contre  nous permet non pas d'envoyer des requêtes à l'API mais de recevoir les mises à jour de L'API\n",
    "    Il est donc possible de configuer ce genre de workflows (sans code) => Nous le ferons plus tard dans ce Notebook...\n"
   ]
  },
  {
   "cell_type": "markdown",
   "id": "69128434",
   "metadata": {},
   "source": [
    "  ### Ce NoteBook est une simple d'utlisation (Consommation)  d'une API de la RATP \n",
    "\n",
    "    Service : C'est une API de la RATP qui donne le temps d'attente à une gare avant le prochain train.\n",
    "    Nous y ferons simplement des requêtes et traiterons l'information selon notre bon vouloir.\n",
    "    Nous limitns notre API aux Metros \n",
    "  lien de l'API complet : https://api-ratp.pierre-grimaud.fr/v4/"
   ]
  },
  {
   "cell_type": "markdown",
   "id": "c9d4b972",
   "metadata": {},
   "source": [
    "pip install requests"
   ]
  },
  {
   "cell_type": "code",
   "execution_count": 34,
   "id": "a181dc57",
   "metadata": {},
   "outputs": [
    {
     "name": "stdout",
     "output_type": "stream",
     "text": [
      "status code request :  200\n"
     ]
    }
   ],
   "source": [
    "# IMPORT LIBRAIRIES \n",
    "import requests \n",
    "import pandas as pd\n",
    "from PIL import Image\n",
    "from io import BytesIO\n",
    "\n",
    "# CONNEXION A L'API \n",
    "networks = requests.get(\"https://api-ratp.pierre-grimaud.fr/v4/lines/metros\")\n",
    "print(\"status code request : \", networks.status_code)"
   ]
  },
  {
   "cell_type": "markdown",
   "id": "783c3a99",
   "metadata": {},
   "source": [
    "## Convertion de la donnée reçue en json() ==> dict pour Python \n",
    "   \n",
    "       C'est un dictionnaire imbriqué : un dictionbaire de plusieurs dictionnaires \n",
    "      C'est un dictionnaire avec une seule clé qui a pour valeur une liste de dictionnaires\n",
    "      ==> soit que chaque élément de cette liste est un dictionnaire."
   ]
  },
  {
   "cell_type": "code",
   "execution_count": 14,
   "id": "9e7e5662",
   "metadata": {},
   "outputs": [
    {
     "name": "stdout",
     "output_type": "stream",
     "text": [
      "<class 'dict'>\n"
     ]
    },
    {
     "data": {
      "text/plain": [
       "{'result': {'metros': [{'code': '1',\n",
       "    'name': 'Métro 1',\n",
       "    'directions': 'La Defense / Chateau de Vincennes',\n",
       "    'id': '62'},\n",
       "   {'code': '2',\n",
       "    'name': 'Métro 2',\n",
       "    'directions': 'Porte Dauphine / Nation',\n",
       "    'id': '67'},\n",
       "   {'code': '3',\n",
       "    'name': 'Métro 3',\n",
       "    'directions': 'Pont de Levallois - Becon / Gallieni',\n",
       "    'id': '68'},\n",
       "   {'code': '3b',\n",
       "    'name': 'Métro 3b',\n",
       "    'directions': 'Gambetta / Porte des Lilas',\n",
       "    'id': '69'},\n",
       "   {'code': '4',\n",
       "    'name': 'Métro 4',\n",
       "    'directions': 'Mairie de Montrouge / Porte de Clignancourt',\n",
       "    'id': '70'},\n",
       "   {'code': '5',\n",
       "    'name': 'Métro 5',\n",
       "    'directions': \"Place d'Italie / Bobigny - Pablo Picasso\",\n",
       "    'id': '71'},\n",
       "   {'code': '6',\n",
       "    'name': 'Métro 6',\n",
       "    'directions': 'Charles de Gaulle - Etoile / Nation',\n",
       "    'id': '72'},\n",
       "   {'code': '7',\n",
       "    'name': 'Métro 7',\n",
       "    'directions': \"Villejuif-L. Aragon / Mairie d'Ivry / la Courneuve - 8 Mai 1945\",\n",
       "    'id': '73'},\n",
       "   {'code': '7b',\n",
       "    'name': 'Métro 7b',\n",
       "    'directions': 'Louis Blanc / Pre-Saint-Gervais',\n",
       "    'id': '74'},\n",
       "   {'code': '8',\n",
       "    'name': 'Métro 8',\n",
       "    'directions': 'Creteil-Pointe du Lac / Balard',\n",
       "    'id': '172562'},\n",
       "   {'code': '9',\n",
       "    'name': 'Métro 9',\n",
       "    'directions': 'Mairie de Montreuil / Pont de Sevres',\n",
       "    'id': '76'},\n",
       "   {'code': '10',\n",
       "    'name': 'Métro 10',\n",
       "    'directions': \"Gare d'Austerlitz / Boulogne - Pont de Saint Cloud\",\n",
       "    'id': '63'},\n",
       "   {'code': '11',\n",
       "    'name': 'Métro 11',\n",
       "    'directions': 'Chatelet / Mairie des Lilas',\n",
       "    'id': '64'},\n",
       "   {'code': '12',\n",
       "    'name': 'Métro 12',\n",
       "    'directions': \"Front Populaire / Mairie d'Issy\",\n",
       "    'id': '65'},\n",
       "   {'code': '13',\n",
       "    'name': 'Métro 13',\n",
       "    'directions': 'St-Denis-Universite/Les Courtilles / Chatillon - Montrouge',\n",
       "    'id': '66'},\n",
       "   {'code': '14',\n",
       "    'name': 'Métro 14',\n",
       "    'directions': 'Olympiades / Mairie de Saint-Ouen',\n",
       "    'id': '55098'},\n",
       "   {'code': 'Fun',\n",
       "    'name': 'Métro Fun',\n",
       "    'directions': 'Gare Haute / Gare basse',\n",
       "    'id': '79'},\n",
       "   {'code': 'Orv',\n",
       "    'name': 'Métro Orv',\n",
       "    'directions': 'Orly 4 / Antony-RER',\n",
       "    'id': '455'}]},\n",
       " '_metadata': {'call': 'GET /lines/metros',\n",
       "  'date': '2021-12-10T01:22:11+01:00',\n",
       "  'version': 4}}"
      ]
     },
     "execution_count": 14,
     "metadata": {},
     "output_type": "execute_result"
    }
   ],
   "source": [
    "print(type(networks.json()))\n",
    "networks.json()"
   ]
  },
  {
   "cell_type": "markdown",
   "id": "46101801",
   "metadata": {},
   "source": [
    "## Ressortons les lignes de trains "
   ]
  },
  {
   "cell_type": "code",
   "execution_count": 27,
   "id": "55772b8e",
   "metadata": {},
   "outputs": [
    {
     "name": "stdout",
     "output_type": "stream",
     "text": [
      "Rappel dictionnaire = {clé : valeur}\n",
      "Le type de la valeur de la clé du dictionnaire  <class 'list'>\n",
      "NOMBRE DE LIGNES QUE RENVOIT L'API :  18\n",
      "\n",
      "\n",
      "Le type de lines[0] :  <class 'dict'>\n"
     ]
    },
    {
     "data": {
      "text/plain": [
       "[{'code': '1',\n",
       "  'name': 'Métro 1',\n",
       "  'directions': 'La Defense / Chateau de Vincennes',\n",
       "  'id': '62'},\n",
       " {'code': '2',\n",
       "  'name': 'Métro 2',\n",
       "  'directions': 'Porte Dauphine / Nation',\n",
       "  'id': '67'},\n",
       " {'code': '3',\n",
       "  'name': 'Métro 3',\n",
       "  'directions': 'Pont de Levallois - Becon / Gallieni',\n",
       "  'id': '68'}]"
      ]
     },
     "execution_count": 27,
     "metadata": {},
     "output_type": "execute_result"
    }
   ],
   "source": [
    "print(\"Rappel dictionnaire = {clé : valeur}\")\n",
    "print(\"Le type de la valeur de la clé du dictionnaire \", type(lines))\n",
    "\n",
    "lines = networks.json()[\"result\"][\"metros\"]\n",
    "print( \"NOMBRE DE LIGNES QUE RENVOIT L'API : \", len(lines))\n",
    "\n",
    "# Affichons la première ligne\n",
    "print(\"\\n\")\n",
    "print(\"Le type de lines[0] : \", type(lines[0]))\n",
    "lines[0 : 3]"
   ]
  },
  {
   "cell_type": "markdown",
   "id": "855bda5c",
   "metadata": {},
   "source": [
    "## Insérons toutes les lignes dans un Dataset"
   ]
  },
  {
   "cell_type": "code",
   "execution_count": 30,
   "id": "406f70d6",
   "metadata": {},
   "outputs": [
    {
     "data": {
      "text/html": [
       "<div>\n",
       "<style scoped>\n",
       "    .dataframe tbody tr th:only-of-type {\n",
       "        vertical-align: middle;\n",
       "    }\n",
       "\n",
       "    .dataframe tbody tr th {\n",
       "        vertical-align: top;\n",
       "    }\n",
       "\n",
       "    .dataframe thead th {\n",
       "        text-align: right;\n",
       "    }\n",
       "</style>\n",
       "<table border=\"1\" class=\"dataframe\">\n",
       "  <thead>\n",
       "    <tr style=\"text-align: right;\">\n",
       "      <th></th>\n",
       "      <th>code</th>\n",
       "      <th>name</th>\n",
       "      <th>directions</th>\n",
       "      <th>id</th>\n",
       "    </tr>\n",
       "  </thead>\n",
       "  <tbody>\n",
       "    <tr>\n",
       "      <th>0</th>\n",
       "      <td>1</td>\n",
       "      <td>Métro 1</td>\n",
       "      <td>La Defense / Chateau de Vincennes</td>\n",
       "      <td>62</td>\n",
       "    </tr>\n",
       "    <tr>\n",
       "      <th>1</th>\n",
       "      <td>2</td>\n",
       "      <td>Métro 2</td>\n",
       "      <td>Porte Dauphine / Nation</td>\n",
       "      <td>67</td>\n",
       "    </tr>\n",
       "    <tr>\n",
       "      <th>2</th>\n",
       "      <td>3</td>\n",
       "      <td>Métro 3</td>\n",
       "      <td>Pont de Levallois - Becon / Gallieni</td>\n",
       "      <td>68</td>\n",
       "    </tr>\n",
       "    <tr>\n",
       "      <th>3</th>\n",
       "      <td>3b</td>\n",
       "      <td>Métro 3b</td>\n",
       "      <td>Gambetta / Porte des Lilas</td>\n",
       "      <td>69</td>\n",
       "    </tr>\n",
       "    <tr>\n",
       "      <th>4</th>\n",
       "      <td>4</td>\n",
       "      <td>Métro 4</td>\n",
       "      <td>Mairie de Montrouge / Porte de Clignancourt</td>\n",
       "      <td>70</td>\n",
       "    </tr>\n",
       "  </tbody>\n",
       "</table>\n",
       "</div>"
      ],
      "text/plain": [
       "  code      name                                   directions  id\n",
       "0    1   Métro 1            La Defense / Chateau de Vincennes  62\n",
       "1    2   Métro 2                      Porte Dauphine / Nation  67\n",
       "2    3   Métro 3         Pont de Levallois - Becon / Gallieni  68\n",
       "3   3b  Métro 3b                   Gambetta / Porte des Lilas  69\n",
       "4    4   Métro 4  Mairie de Montrouge / Porte de Clignancourt  70"
      ]
     },
     "execution_count": 30,
     "metadata": {},
     "output_type": "execute_result"
    }
   ],
   "source": [
    "all_lines = pd.DataFrame(lines)\n",
    "all_lines.head(5)"
   ]
  },
  {
   "cell_type": "markdown",
   "id": "8e0f470e",
   "metadata": {},
   "source": [
    "# Maintenant travaillons sur les stations \n",
    "    Find all stations of one line example line 9\n",
    "    Notons que l'adresse de l'API a changé nous sommes passés des lgnes à stations\n",
    " https://api-ratp.pierre-grimaud.fr/v4/stations/metros/"
   ]
  },
  {
   "cell_type": "code",
   "execution_count": 31,
   "id": "e6d99adb",
   "metadata": {},
   "outputs": [
    {
     "name": "stdout",
     "output_type": "stream",
     "text": [
      "enter code station : 9\n",
      "request_status :  200\n"
     ]
    },
    {
     "data": {
      "text/plain": [
       "0          Pont de Sevres\n",
       "1             Billancourt\n",
       "2           Marcel Sembat\n",
       "3    Porte de Saint-Cloud\n",
       "4                Exelmans\n",
       "5     Michel-Ange-Molitor\n",
       "6     Michel-Ange-Auteuil\n",
       "7                  Jasmin\n",
       "8                Ranelagh\n",
       "9               La Muette\n",
       "Name: name, dtype: object"
      ]
     },
     "execution_count": 31,
     "metadata": {},
     "output_type": "execute_result"
    }
   ],
   "source": [
    "url_station = \"https://api-ratp.pierre-grimaud.fr/v4/stations/metros/\"\n",
    "code_station = input(\"enter code station : \")\n",
    "url = url_station + code_station\n",
    "\n",
    "station_lines = requests.get(url)\n",
    "print(\"request_status : \", station_lines.status_code)\n",
    "\n",
    "station_lines = station_lines.json()[\"result\"][\"stations\"]  # for keeping only dict we need\n",
    "\n",
    "stations = pd.DataFrame(station_lines)\n",
    "stations[\"name\"][:10] # to see only the first 10"
   ]
  },
  {
   "cell_type": "code",
   "execution_count": 35,
   "id": "25ec5c38",
   "metadata": {},
   "outputs": [
    {
     "data": {
      "text/html": [
       "<div>\n",
       "<style scoped>\n",
       "    .dataframe tbody tr th:only-of-type {\n",
       "        vertical-align: middle;\n",
       "    }\n",
       "\n",
       "    .dataframe tbody tr th {\n",
       "        vertical-align: top;\n",
       "    }\n",
       "\n",
       "    .dataframe thead th {\n",
       "        text-align: right;\n",
       "    }\n",
       "</style>\n",
       "<table border=\"1\" class=\"dataframe\">\n",
       "  <thead>\n",
       "    <tr style=\"text-align: right;\">\n",
       "      <th></th>\n",
       "      <th>name</th>\n",
       "      <th>slug</th>\n",
       "    </tr>\n",
       "  </thead>\n",
       "  <tbody>\n",
       "    <tr>\n",
       "      <th>0</th>\n",
       "      <td>Pont de Sevres</td>\n",
       "      <td>pont+de+sevres</td>\n",
       "    </tr>\n",
       "    <tr>\n",
       "      <th>1</th>\n",
       "      <td>Billancourt</td>\n",
       "      <td>billancourt</td>\n",
       "    </tr>\n",
       "    <tr>\n",
       "      <th>2</th>\n",
       "      <td>Marcel Sembat</td>\n",
       "      <td>marcel+sembat</td>\n",
       "    </tr>\n",
       "    <tr>\n",
       "      <th>3</th>\n",
       "      <td>Porte de Saint-Cloud</td>\n",
       "      <td>porte+de+saint+cloud</td>\n",
       "    </tr>\n",
       "    <tr>\n",
       "      <th>4</th>\n",
       "      <td>Exelmans</td>\n",
       "      <td>exelmans</td>\n",
       "    </tr>\n",
       "  </tbody>\n",
       "</table>\n",
       "</div>"
      ],
      "text/plain": [
       "                   name                  slug\n",
       "0        Pont de Sevres        pont+de+sevres\n",
       "1           Billancourt           billancourt\n",
       "2         Marcel Sembat         marcel+sembat\n",
       "3  Porte de Saint-Cloud  porte+de+saint+cloud\n",
       "4              Exelmans              exelmans"
      ]
     },
     "execution_count": 35,
     "metadata": {},
     "output_type": "execute_result"
    }
   ],
   "source": [
    "stations.head(5)"
   ]
  },
  {
   "cell_type": "markdown",
   "id": "e2f01bbf",
   "metadata": {},
   "source": [
    "# Find directions of lines\n",
    "    a docs's API gives us instructions to find what we need"
   ]
  },
  {
   "cell_type": "code",
   "execution_count": 37,
   "id": "aa264261",
   "metadata": {},
   "outputs": [
    {
     "name": "stdout",
     "output_type": "stream",
     "text": [
      "enter name line : 9\n",
      "Direction Aller/Retour :  set()\n"
     ]
    }
   ],
   "source": [
    "name_line = input(\"enter name line : \")\n",
    "Direction = all_lines[all_lines[\"name\"] == name_line ]\n",
    "set(Direction[\"directions\"]) \n",
    "print(\"Direction Aller/Retour : \",set(Direction[\"directions\"]))"
   ]
  },
  {
   "cell_type": "code",
   "execution_count": 44,
   "id": "9b30d5f7",
   "metadata": {},
   "outputs": [
    {
     "name": "stdout",
     "output_type": "stream",
     "text": [
      "enter code line : 1\n",
      "200\n"
     ]
    },
    {
     "data": {
      "text/plain": [
       "[{'name': 'La Defense (Grande Arche)', 'way': 'A'},\n",
       " {'name': 'Chateau de Vincennes', 'way': 'R'}]"
      ]
     },
     "execution_count": 44,
     "metadata": {},
     "output_type": "execute_result"
    }
   ],
   "source": [
    "name_line = input(\"enter code line : \")\n",
    "url_dest = \"https://api-ratp.pierre-grimaud.fr/v4/destinations/metros/{}\".format(name_line)\n",
    "destination = requests.get(url_dest)\n",
    "print(destination.status_code)\n",
    "\n",
    "destination.json()[\"result\"][\"destinations\"]"
   ]
  },
  {
   "cell_type": "markdown",
   "id": "bc6dbf38",
   "metadata": {},
   "source": [
    "# Watch the time of the next subways at the Franklin Roosevelt station in the direction of Pont de Sèvres:\n",
    "    Schedule"
   ]
  },
  {
   "cell_type": "code",
   "execution_count": 45,
   "id": "a16b9c3c",
   "metadata": {},
   "outputs": [
    {
     "data": {
      "text/plain": [
       "['Franklin-Roosevelt']"
      ]
     },
     "execution_count": 45,
     "metadata": {},
     "output_type": "execute_result"
    }
   ],
   "source": [
    "[i for i in stations[\"name\"] if i.startswith(\"Franklin\")]"
   ]
  },
  {
   "cell_type": "code",
   "execution_count": 46,
   "id": "6402244f",
   "metadata": {},
   "outputs": [
    {
     "name": "stdout",
     "output_type": "stream",
     "text": [
      "200\n"
     ]
    },
    {
     "data": {
      "text/html": [
       "<div>\n",
       "<style scoped>\n",
       "    .dataframe tbody tr th:only-of-type {\n",
       "        vertical-align: middle;\n",
       "    }\n",
       "\n",
       "    .dataframe tbody tr th {\n",
       "        vertical-align: top;\n",
       "    }\n",
       "\n",
       "    .dataframe thead th {\n",
       "        text-align: right;\n",
       "    }\n",
       "</style>\n",
       "<table border=\"1\" class=\"dataframe\">\n",
       "  <thead>\n",
       "    <tr style=\"text-align: right;\">\n",
       "      <th></th>\n",
       "      <th>Prochain_train</th>\n",
       "      <th>destination</th>\n",
       "    </tr>\n",
       "  </thead>\n",
       "  <tbody>\n",
       "    <tr>\n",
       "      <th>0</th>\n",
       "      <td>Service termine</td>\n",
       "      <td>Pont de Sèvres</td>\n",
       "    </tr>\n",
       "  </tbody>\n",
       "</table>\n",
       "</div>"
      ],
      "text/plain": [
       "    Prochain_train     destination\n",
       "0  Service termine  Pont de Sèvres"
      ]
     },
     "execution_count": 46,
     "metadata": {},
     "output_type": "execute_result"
    }
   ],
   "source": [
    "url_time_wait = \"\"\n",
    "schedule = requests.get(\"https://api-ratp.pierre-grimaud.fr/v4/schedules/metros/9/Franklin%2BRoosevelt/R\")\n",
    "print(schedule.status_code)\n",
    "\n",
    "schedule.json()\n",
    "schedule.json()[\"result\"][\"schedules\"]\n",
    "\n",
    "Time_waiting = pd.DataFrame(schedule.json()[\"result\"][\"schedules\"])\n",
    "Time_waiting = Time_waiting.rename(columns = {\"message\": \"Prochain_train\"})\n",
    "\n",
    "Time_waiting"
   ]
  },
  {
   "cell_type": "markdown",
   "id": "04af12fa",
   "metadata": {},
   "source": [
    "# Print image of line'a name "
   ]
  },
  {
   "cell_type": "code",
   "execution_count": 50,
   "id": "ff83f4ea",
   "metadata": {},
   "outputs": [
    {
     "data": {
      "text/plain": [
       "<Response [502]>"
      ]
     },
     "execution_count": 50,
     "metadata": {},
     "output_type": "execute_result"
    }
   ],
   "source": [
    "import PIL.Image\n",
    "ligne_9 = requests.get(\"http://restratpws.azurewebsites.net/api/images/m9.gif\")\n",
    "#Image.open(BytesIO(ligne_9.content))\n",
    "ligne_9"
   ]
  },
  {
   "cell_type": "code",
   "execution_count": null,
   "id": "037ca9d8",
   "metadata": {},
   "outputs": [],
   "source": []
  }
 ],
 "metadata": {
  "kernelspec": {
   "display_name": "Python 3 (ipykernel)",
   "language": "python",
   "name": "python3"
  },
  "language_info": {
   "codemirror_mode": {
    "name": "ipython",
    "version": 3
   },
   "file_extension": ".py",
   "mimetype": "text/x-python",
   "name": "python",
   "nbconvert_exporter": "python",
   "pygments_lexer": "ipython3",
   "version": "3.9.6"
  }
 },
 "nbformat": 4,
 "nbformat_minor": 5
}
